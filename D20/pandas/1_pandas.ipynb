{
 "cells": [
  {
   "cell_type": "markdown",
   "id": "7d3c38ff-8e8c-474d-8f31-05f073bb3750",
   "metadata": {},
   "source": [
    "# Day 20/60 of Machine Learning From Basics \n",
    "# Data Analysis: Panda series part 1\n",
    "<h4>Pandas is fast,powerful and open source data analysis and manipulation tool/library built on python.</h4>"
   ]
  },
  {
   "cell_type": "code",
   "execution_count": 2,
   "id": "1853b9df-3487-40ee-a969-72d77da3fd91",
   "metadata": {},
   "outputs": [
    {
     "data": {
      "text/plain": [
       "'2.1.4'"
      ]
     },
     "execution_count": 2,
     "metadata": {},
     "output_type": "execute_result"
    }
   ],
   "source": [
    "import pandas as pd\n",
    "# DataFrame is the core of pandas\n",
    "pd.__version__"
   ]
  },
  {
   "cell_type": "markdown",
   "id": "551b7129-5e0b-4d03-b7dd-dc0e7070f0a1",
   "metadata": {},
   "source": [
    "<h3>Panda series using python lists:</h3>"
   ]
  },
  {
   "cell_type": "code",
   "execution_count": 7,
   "id": "22b64fa4-c0d6-4320-96f8-4faa512cb88e",
   "metadata": {},
   "outputs": [
    {
     "name": "stdout",
     "output_type": "stream",
     "text": [
      "[1, 5, 3, 4]\n"
     ]
    }
   ],
   "source": [
    "l = [1,5,3,4]\n",
    "print(l)"
   ]
  },
  {
   "cell_type": "code",
   "execution_count": 11,
   "id": "95272ae5-1688-419d-a75b-3ade02ab3825",
   "metadata": {},
   "outputs": [
    {
     "name": "stdout",
     "output_type": "stream",
     "text": [
      "0    1\n",
      "1    5\n",
      "2    3\n",
      "3    4\n",
      "dtype: int64\n",
      "<class 'pandas.core.series.Series'>\n"
     ]
    }
   ],
   "source": [
    "series  = pd.Series(l)\n",
    "# Series converts the lists into columns\n",
    "print(series)\n",
    "print(type(series))"
   ]
  },
  {
   "cell_type": "markdown",
   "id": "4abf5e7f-0db3-4239-af0d-a364d88e1f54",
   "metadata": {},
   "source": [
    "<h4>Let's create a series and implement operations.</h4>"
   ]
  },
  {
   "cell_type": "code",
   "execution_count": 17,
   "id": "ead91d1d-6881-42a3-9ee2-b1a5ca971765",
   "metadata": {},
   "outputs": [
    {
     "data": {
      "text/plain": [
       "0    lhasang\n",
       "1      lakpa\n",
       "2     lawang\n",
       "dtype: object"
      ]
     },
     "execution_count": 17,
     "metadata": {},
     "output_type": "execute_result"
    }
   ],
   "source": [
    "s = pd.Series(['lhasang','lakpa','lawang'])\n",
    "s"
   ]
  },
  {
   "cell_type": "code",
   "execution_count": 24,
   "id": "66fecb09-e7ae-4e3c-ab2b-be008b7f1fbc",
   "metadata": {},
   "outputs": [
    {
     "data": {
      "text/plain": [
       "i      lhasang\n",
       "ii       lakpa\n",
       "iii     lawang\n",
       "Name: Tibetean Names, dtype: object"
      ]
     },
     "execution_count": 24,
     "metadata": {},
     "output_type": "execute_result"
    }
   ],
   "source": [
    "# changing the index and giving our series a name\n",
    "s = pd.Series(['lhasang','lakpa','lawang'],index=[\"i\",\"ii\",\"iii\"],name = \"Tibetean Names\")\n",
    "s"
   ]
  },
  {
   "cell_type": "markdown",
   "id": "0b8dfabd-ce05-48ed-ae97-3cbd8be2e385",
   "metadata": {},
   "source": [
    "<h4>Series using Dictionary</h4>"
   ]
  },
  {
   "cell_type": "code",
   "execution_count": 25,
   "id": "d17dda9e-06f5-4638-b352-be59c2915ad5",
   "metadata": {},
   "outputs": [
    {
     "data": {
      "text/plain": [
       "Roll no                 [1, 2, 3, 4]\n",
       "Names      [Lhasang, Namgyel, Nyima]\n",
       "Name: Students Record, dtype: object"
      ]
     },
     "execution_count": 25,
     "metadata": {},
     "output_type": "execute_result"
    }
   ],
   "source": [
    "dict_s = pd.Series({\"Roll no\" : 12,\"Name\": \"Lhasang\",\"Namgyel\",\"Nyima\"]},name = \"Students Record\")\n",
    "dict_s"
   ]
  },
  {
   "cell_type": "markdown",
   "id": "fb8843c1-20ab-45ca-a4bd-8f5409e1806a",
   "metadata": {},
   "source": [
    "# Data Munging or Data wrangling"
   ]
  },
  {
   "cell_type": "markdown",
   "id": "67aa1ca5-55cd-43ea-85c7-acf2f30ad92b",
   "metadata": {},
   "source": [
    "<h4>The process of cleaning messy data.</h4>"
   ]
  },
  {
   "cell_type": "code",
   "execution_count": null,
   "id": "9a4515e1-cf7b-472a-b816-2416f1bd9d62",
   "metadata": {},
   "outputs": [],
   "source": []
  }
 ],
 "metadata": {
  "kernelspec": {
   "display_name": "Python 3 (ipykernel)",
   "language": "python",
   "name": "python3"
  },
  "language_info": {
   "codemirror_mode": {
    "name": "ipython",
    "version": 3
   },
   "file_extension": ".py",
   "mimetype": "text/x-python",
   "name": "python",
   "nbconvert_exporter": "python",
   "pygments_lexer": "ipython3",
   "version": "3.11.7"
  }
 },
 "nbformat": 4,
 "nbformat_minor": 5
}
