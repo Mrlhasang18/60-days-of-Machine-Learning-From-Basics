{
 "cells": [
  {
   "cell_type": "markdown",
   "id": "65024553-f5e6-4bc3-803c-8dff63e6c0cf",
   "metadata": {},
   "source": [
    "# Data Analysis: Panda series part 5"
   ]
  },
  {
   "cell_type": "markdown",
   "id": "1cda1f55-f5bd-4aca-b776-59b486ee6aa5",
   "metadata": {},
   "source": [
    "<h2>Group by nethod(Split Apply Combine):</h2>"
   ]
  },
  {
   "cell_type": "code",
   "execution_count": 52,
   "id": "8426f162-b10c-4872-a999-01beddd05e26",
   "metadata": {},
   "outputs": [
    {
     "data": {
      "text/html": [
       "<div>\n",
       "<style scoped>\n",
       "    .dataframe tbody tr th:only-of-type {\n",
       "        vertical-align: middle;\n",
       "    }\n",
       "\n",
       "    .dataframe tbody tr th {\n",
       "        vertical-align: top;\n",
       "    }\n",
       "\n",
       "    .dataframe thead th {\n",
       "        text-align: right;\n",
       "    }\n",
       "</style>\n",
       "<table border=\"1\" class=\"dataframe\">\n",
       "  <thead>\n",
       "    <tr style=\"text-align: right;\">\n",
       "      <th></th>\n",
       "      <th>day</th>\n",
       "      <th>city</th>\n",
       "      <th>temperature</th>\n",
       "      <th>windspeed</th>\n",
       "      <th>event</th>\n",
       "    </tr>\n",
       "  </thead>\n",
       "  <tbody>\n",
       "    <tr>\n",
       "      <th>0</th>\n",
       "      <td>1/1/2024</td>\n",
       "      <td>kathmandu</td>\n",
       "      <td>12</td>\n",
       "      <td>6</td>\n",
       "      <td>Snow</td>\n",
       "    </tr>\n",
       "    <tr>\n",
       "      <th>1</th>\n",
       "      <td>1/2/2024</td>\n",
       "      <td>kathmandu</td>\n",
       "      <td>36</td>\n",
       "      <td>7</td>\n",
       "      <td>Sunny</td>\n",
       "    </tr>\n",
       "    <tr>\n",
       "      <th>2</th>\n",
       "      <td>1/3/2024</td>\n",
       "      <td>kathmandu</td>\n",
       "      <td>28</td>\n",
       "      <td>12</td>\n",
       "      <td>Cloudy</td>\n",
       "    </tr>\n",
       "    <tr>\n",
       "      <th>3</th>\n",
       "      <td>1/4/2024</td>\n",
       "      <td>kathmandu</td>\n",
       "      <td>33</td>\n",
       "      <td>7</td>\n",
       "      <td>Rain</td>\n",
       "    </tr>\n",
       "    <tr>\n",
       "      <th>4</th>\n",
       "      <td>1/1/2024</td>\n",
       "      <td>bhaktapur</td>\n",
       "      <td>25</td>\n",
       "      <td>23</td>\n",
       "      <td>Sunny</td>\n",
       "    </tr>\n",
       "    <tr>\n",
       "      <th>5</th>\n",
       "      <td>1/2/2024</td>\n",
       "      <td>bhaktapur</td>\n",
       "      <td>15</td>\n",
       "      <td>12</td>\n",
       "      <td>Fog</td>\n",
       "    </tr>\n",
       "    <tr>\n",
       "      <th>6</th>\n",
       "      <td>1/3/2024</td>\n",
       "      <td>bhaktapur</td>\n",
       "      <td>17</td>\n",
       "      <td>25</td>\n",
       "      <td>Sunny</td>\n",
       "    </tr>\n",
       "    <tr>\n",
       "      <th>7</th>\n",
       "      <td>1/4/2024</td>\n",
       "      <td>bhaktapur</td>\n",
       "      <td>19</td>\n",
       "      <td>5</td>\n",
       "      <td>Rain</td>\n",
       "    </tr>\n",
       "    <tr>\n",
       "      <th>8</th>\n",
       "      <td>1/1/2024</td>\n",
       "      <td>makwanpur</td>\n",
       "      <td>13</td>\n",
       "      <td>20</td>\n",
       "      <td>Snow</td>\n",
       "    </tr>\n",
       "    <tr>\n",
       "      <th>9</th>\n",
       "      <td>1/2/2024</td>\n",
       "      <td>makwanpur</td>\n",
       "      <td>28</td>\n",
       "      <td>13</td>\n",
       "      <td>Cloudy</td>\n",
       "    </tr>\n",
       "    <tr>\n",
       "      <th>10</th>\n",
       "      <td>1/3/2024</td>\n",
       "      <td>makwanpur</td>\n",
       "      <td>38</td>\n",
       "      <td>8</td>\n",
       "      <td>Sunny</td>\n",
       "    </tr>\n",
       "    <tr>\n",
       "      <th>11</th>\n",
       "      <td>1/4/2024</td>\n",
       "      <td>makwanpur</td>\n",
       "      <td>31</td>\n",
       "      <td>10</td>\n",
       "      <td>Rain</td>\n",
       "    </tr>\n",
       "  </tbody>\n",
       "</table>\n",
       "</div>"
      ],
      "text/plain": [
       "         day       city  temperature  windspeed   event\n",
       "0   1/1/2024  kathmandu           12          6    Snow\n",
       "1   1/2/2024  kathmandu           36          7   Sunny\n",
       "2   1/3/2024  kathmandu           28         12  Cloudy\n",
       "3   1/4/2024  kathmandu           33          7    Rain\n",
       "4   1/1/2024  bhaktapur           25         23   Sunny\n",
       "5   1/2/2024  bhaktapur           15         12     Fog\n",
       "6   1/3/2024  bhaktapur           17         25   Sunny\n",
       "7   1/4/2024  bhaktapur           19          5    Rain\n",
       "8   1/1/2024  makwanpur           13         20    Snow\n",
       "9   1/2/2024  makwanpur           28         13  Cloudy\n",
       "10  1/3/2024  makwanpur           38          8   Sunny\n",
       "11  1/4/2024  makwanpur           31         10    Rain"
      ]
     },
     "execution_count": 52,
     "metadata": {},
     "output_type": "execute_result"
    }
   ],
   "source": [
    "import pandas as pd\n",
    "import numpy as np\n",
    "a = pd.read_csv(\"weather_by_cities.csv\")\n",
    "a"
   ]
  },
  {
   "cell_type": "code",
   "execution_count": 53,
   "id": "ce5a2e2c-c0a3-406c-9cc9-69f467e00e76",
   "metadata": {},
   "outputs": [
    {
     "data": {
      "text/plain": [
       "<pandas.core.groupby.generic.DataFrameGroupBy object at 0x000001BCECB20A10>"
      ]
     },
     "execution_count": 53,
     "metadata": {},
     "output_type": "execute_result"
    }
   ],
   "source": [
    "b = a.groupby('city')\n",
    "b"
   ]
  },
  {
   "cell_type": "code",
   "execution_count": 54,
   "id": "2c731d5c-510a-44ab-92ea-a6bff5a05a5b",
   "metadata": {},
   "outputs": [
    {
     "name": "stdout",
     "output_type": "stream",
     "text": [
      "\n",
      "Weather of bhaktapur city:\n",
      "        day       city  temperature  windspeed  event\n",
      "4  1/1/2024  bhaktapur           25         23  Sunny\n",
      "5  1/2/2024  bhaktapur           15         12    Fog\n",
      "6  1/3/2024  bhaktapur           17         25  Sunny\n",
      "7  1/4/2024  bhaktapur           19          5   Rain\n",
      "\n",
      "Weather of kathmandu city:\n",
      "        day       city  temperature  windspeed   event\n",
      "0  1/1/2024  kathmandu           12          6    Snow\n",
      "1  1/2/2024  kathmandu           36          7   Sunny\n",
      "2  1/3/2024  kathmandu           28         12  Cloudy\n",
      "3  1/4/2024  kathmandu           33          7    Rain\n",
      "\n",
      "Weather of makwanpur city:\n",
      "         day       city  temperature  windspeed   event\n",
      "8   1/1/2024  makwanpur           13         20    Snow\n",
      "9   1/2/2024  makwanpur           28         13  Cloudy\n",
      "10  1/3/2024  makwanpur           38          8   Sunny\n",
      "11  1/4/2024  makwanpur           31         10    Rain\n"
     ]
    }
   ],
   "source": [
    "for city,city_data in b:\n",
    "    print(\"\\nWeather of \"+city+\" city:\")\n",
    "    print(city_data)"
   ]
  },
  {
   "cell_type": "code",
   "execution_count": 55,
   "id": "ddebd155-e75c-4b98-90df-f6912f39cfaa",
   "metadata": {},
   "outputs": [
    {
     "data": {
      "text/html": [
       "<div>\n",
       "<style scoped>\n",
       "    .dataframe tbody tr th:only-of-type {\n",
       "        vertical-align: middle;\n",
       "    }\n",
       "\n",
       "    .dataframe tbody tr th {\n",
       "        vertical-align: top;\n",
       "    }\n",
       "\n",
       "    .dataframe thead th {\n",
       "        text-align: right;\n",
       "    }\n",
       "</style>\n",
       "<table border=\"1\" class=\"dataframe\">\n",
       "  <thead>\n",
       "    <tr style=\"text-align: right;\">\n",
       "      <th></th>\n",
       "      <th>day</th>\n",
       "      <th>city</th>\n",
       "      <th>temperature</th>\n",
       "      <th>windspeed</th>\n",
       "      <th>event</th>\n",
       "    </tr>\n",
       "  </thead>\n",
       "  <tbody>\n",
       "    <tr>\n",
       "      <th>4</th>\n",
       "      <td>1/1/2024</td>\n",
       "      <td>bhaktapur</td>\n",
       "      <td>25</td>\n",
       "      <td>23</td>\n",
       "      <td>Sunny</td>\n",
       "    </tr>\n",
       "    <tr>\n",
       "      <th>5</th>\n",
       "      <td>1/2/2024</td>\n",
       "      <td>bhaktapur</td>\n",
       "      <td>15</td>\n",
       "      <td>12</td>\n",
       "      <td>Fog</td>\n",
       "    </tr>\n",
       "    <tr>\n",
       "      <th>6</th>\n",
       "      <td>1/3/2024</td>\n",
       "      <td>bhaktapur</td>\n",
       "      <td>17</td>\n",
       "      <td>25</td>\n",
       "      <td>Sunny</td>\n",
       "    </tr>\n",
       "    <tr>\n",
       "      <th>7</th>\n",
       "      <td>1/4/2024</td>\n",
       "      <td>bhaktapur</td>\n",
       "      <td>19</td>\n",
       "      <td>5</td>\n",
       "      <td>Rain</td>\n",
       "    </tr>\n",
       "  </tbody>\n",
       "</table>\n",
       "</div>"
      ],
      "text/plain": [
       "        day       city  temperature  windspeed  event\n",
       "4  1/1/2024  bhaktapur           25         23  Sunny\n",
       "5  1/2/2024  bhaktapur           15         12    Fog\n",
       "6  1/3/2024  bhaktapur           17         25  Sunny\n",
       "7  1/4/2024  bhaktapur           19          5   Rain"
      ]
     },
     "execution_count": 55,
     "metadata": {},
     "output_type": "execute_result"
    }
   ],
   "source": [
    "# Now let's retrive data according to city:\n",
    "b.get_group('bhaktapur')"
   ]
  },
  {
   "cell_type": "code",
   "execution_count": 56,
   "id": "514bc66d-2e26-4f0a-a0d2-f6bc4ef68d79",
   "metadata": {},
   "outputs": [
    {
     "data": {
      "text/html": [
       "<div>\n",
       "<style scoped>\n",
       "    .dataframe tbody tr th:only-of-type {\n",
       "        vertical-align: middle;\n",
       "    }\n",
       "\n",
       "    .dataframe tbody tr th {\n",
       "        vertical-align: top;\n",
       "    }\n",
       "\n",
       "    .dataframe thead th {\n",
       "        text-align: right;\n",
       "    }\n",
       "</style>\n",
       "<table border=\"1\" class=\"dataframe\">\n",
       "  <thead>\n",
       "    <tr style=\"text-align: right;\">\n",
       "      <th></th>\n",
       "      <th>day</th>\n",
       "      <th>temperature</th>\n",
       "      <th>windspeed</th>\n",
       "      <th>event</th>\n",
       "    </tr>\n",
       "    <tr>\n",
       "      <th>city</th>\n",
       "      <th></th>\n",
       "      <th></th>\n",
       "      <th></th>\n",
       "      <th></th>\n",
       "    </tr>\n",
       "  </thead>\n",
       "  <tbody>\n",
       "    <tr>\n",
       "      <th>bhaktapur</th>\n",
       "      <td>1/4/2024</td>\n",
       "      <td>25</td>\n",
       "      <td>25</td>\n",
       "      <td>Sunny</td>\n",
       "    </tr>\n",
       "    <tr>\n",
       "      <th>kathmandu</th>\n",
       "      <td>1/4/2024</td>\n",
       "      <td>36</td>\n",
       "      <td>12</td>\n",
       "      <td>Sunny</td>\n",
       "    </tr>\n",
       "    <tr>\n",
       "      <th>makwanpur</th>\n",
       "      <td>1/4/2024</td>\n",
       "      <td>38</td>\n",
       "      <td>20</td>\n",
       "      <td>Sunny</td>\n",
       "    </tr>\n",
       "  </tbody>\n",
       "</table>\n",
       "</div>"
      ],
      "text/plain": [
       "                day  temperature  windspeed  event\n",
       "city                                              \n",
       "bhaktapur  1/4/2024           25         25  Sunny\n",
       "kathmandu  1/4/2024           36         12  Sunny\n",
       "makwanpur  1/4/2024           38         20  Sunny"
      ]
     },
     "execution_count": 56,
     "metadata": {},
     "output_type": "execute_result"
    }
   ],
   "source": [
    "# Combine the minumum datas of all cities in one table\n",
    "b.max()"
   ]
  },
  {
   "cell_type": "code",
   "execution_count": 59,
   "id": "2442e97d-0edd-4c57-9699-a58d702366d8",
   "metadata": {},
   "outputs": [
    {
     "data": {
      "text/html": [
       "<div>\n",
       "<style scoped>\n",
       "    .dataframe tbody tr th:only-of-type {\n",
       "        vertical-align: middle;\n",
       "    }\n",
       "\n",
       "    .dataframe tbody tr th {\n",
       "        vertical-align: top;\n",
       "    }\n",
       "\n",
       "    .dataframe thead tr th {\n",
       "        text-align: left;\n",
       "    }\n",
       "\n",
       "    .dataframe thead tr:last-of-type th {\n",
       "        text-align: right;\n",
       "    }\n",
       "</style>\n",
       "<table border=\"1\" class=\"dataframe\">\n",
       "  <thead>\n",
       "    <tr>\n",
       "      <th></th>\n",
       "      <th colspan=\"8\" halign=\"left\">temperature</th>\n",
       "      <th colspan=\"8\" halign=\"left\">windspeed</th>\n",
       "    </tr>\n",
       "    <tr>\n",
       "      <th></th>\n",
       "      <th>count</th>\n",
       "      <th>mean</th>\n",
       "      <th>std</th>\n",
       "      <th>min</th>\n",
       "      <th>25%</th>\n",
       "      <th>50%</th>\n",
       "      <th>75%</th>\n",
       "      <th>max</th>\n",
       "      <th>count</th>\n",
       "      <th>mean</th>\n",
       "      <th>std</th>\n",
       "      <th>min</th>\n",
       "      <th>25%</th>\n",
       "      <th>50%</th>\n",
       "      <th>75%</th>\n",
       "      <th>max</th>\n",
       "    </tr>\n",
       "    <tr>\n",
       "      <th>city</th>\n",
       "      <th></th>\n",
       "      <th></th>\n",
       "      <th></th>\n",
       "      <th></th>\n",
       "      <th></th>\n",
       "      <th></th>\n",
       "      <th></th>\n",
       "      <th></th>\n",
       "      <th></th>\n",
       "      <th></th>\n",
       "      <th></th>\n",
       "      <th></th>\n",
       "      <th></th>\n",
       "      <th></th>\n",
       "      <th></th>\n",
       "      <th></th>\n",
       "    </tr>\n",
       "  </thead>\n",
       "  <tbody>\n",
       "    <tr>\n",
       "      <th>bhaktapur</th>\n",
       "      <td>4.0</td>\n",
       "      <td>19.00</td>\n",
       "      <td>4.320494</td>\n",
       "      <td>15.0</td>\n",
       "      <td>16.50</td>\n",
       "      <td>18.0</td>\n",
       "      <td>20.50</td>\n",
       "      <td>25.0</td>\n",
       "      <td>4.0</td>\n",
       "      <td>16.25</td>\n",
       "      <td>9.429563</td>\n",
       "      <td>5.0</td>\n",
       "      <td>10.25</td>\n",
       "      <td>17.5</td>\n",
       "      <td>23.50</td>\n",
       "      <td>25.0</td>\n",
       "    </tr>\n",
       "    <tr>\n",
       "      <th>kathmandu</th>\n",
       "      <td>4.0</td>\n",
       "      <td>27.25</td>\n",
       "      <td>10.688779</td>\n",
       "      <td>12.0</td>\n",
       "      <td>24.00</td>\n",
       "      <td>30.5</td>\n",
       "      <td>33.75</td>\n",
       "      <td>36.0</td>\n",
       "      <td>4.0</td>\n",
       "      <td>8.00</td>\n",
       "      <td>2.708013</td>\n",
       "      <td>6.0</td>\n",
       "      <td>6.75</td>\n",
       "      <td>7.0</td>\n",
       "      <td>8.25</td>\n",
       "      <td>12.0</td>\n",
       "    </tr>\n",
       "    <tr>\n",
       "      <th>makwanpur</th>\n",
       "      <td>4.0</td>\n",
       "      <td>27.50</td>\n",
       "      <td>10.535654</td>\n",
       "      <td>13.0</td>\n",
       "      <td>24.25</td>\n",
       "      <td>29.5</td>\n",
       "      <td>32.75</td>\n",
       "      <td>38.0</td>\n",
       "      <td>4.0</td>\n",
       "      <td>12.75</td>\n",
       "      <td>5.251984</td>\n",
       "      <td>8.0</td>\n",
       "      <td>9.50</td>\n",
       "      <td>11.5</td>\n",
       "      <td>14.75</td>\n",
       "      <td>20.0</td>\n",
       "    </tr>\n",
       "  </tbody>\n",
       "</table>\n",
       "</div>"
      ],
      "text/plain": [
       "          temperature                                                    \\\n",
       "                count   mean        std   min    25%   50%    75%   max   \n",
       "city                                                                      \n",
       "bhaktapur         4.0  19.00   4.320494  15.0  16.50  18.0  20.50  25.0   \n",
       "kathmandu         4.0  27.25  10.688779  12.0  24.00  30.5  33.75  36.0   \n",
       "makwanpur         4.0  27.50  10.535654  13.0  24.25  29.5  32.75  38.0   \n",
       "\n",
       "          windspeed                                                  \n",
       "              count   mean       std  min    25%   50%    75%   max  \n",
       "city                                                                 \n",
       "bhaktapur       4.0  16.25  9.429563  5.0  10.25  17.5  23.50  25.0  \n",
       "kathmandu       4.0   8.00  2.708013  6.0   6.75   7.0   8.25  12.0  \n",
       "makwanpur       4.0  12.75  5.251984  8.0   9.50  11.5  14.75  20.0  "
      ]
     },
     "execution_count": 59,
     "metadata": {},
     "output_type": "execute_result"
    }
   ],
   "source": [
    "b.describe()"
   ]
  },
  {
   "cell_type": "code",
   "execution_count": 64,
   "id": "afc53e91-4754-4afd-b40d-323029199b35",
   "metadata": {},
   "outputs": [
    {
     "name": "stdout",
     "output_type": "stream",
     "text": [
      "<class 'pandas.core.frame.DataFrame'>\n",
      "RangeIndex: 12 entries, 0 to 11\n",
      "Data columns (total 5 columns):\n",
      " #   Column       Non-Null Count  Dtype \n",
      "---  ------       --------------  ----- \n",
      " 0   day          12 non-null     object\n",
      " 1   city         12 non-null     object\n",
      " 2   temperature  12 non-null     int64 \n",
      " 3   windspeed    12 non-null     int64 \n",
      " 4   event        12 non-null     object\n",
      "dtypes: int64(2), object(3)\n",
      "memory usage: 612.0+ bytes\n"
     ]
    }
   ],
   "source": [
    "a.info()"
   ]
  },
  {
   "cell_type": "code",
   "execution_count": 65,
   "id": "54aeb05a-329f-4037-ba2c-09e6b944e3c0",
   "metadata": {},
   "outputs": [
    {
     "name": "stderr",
     "output_type": "stream",
     "text": [
      "Matplotlib is building the font cache; this may take a moment.\n"
     ]
    },
    {
     "data": {
      "text/plain": [
       "city\n",
       "bhaktapur    Axes(0.125,0.11;0.775x0.77)\n",
       "kathmandu    Axes(0.125,0.11;0.775x0.77)\n",
       "makwanpur    Axes(0.125,0.11;0.775x0.77)\n",
       "dtype: object"
      ]
     },
     "execution_count": 65,
     "metadata": {},
     "output_type": "execute_result"
    },
    {
     "data": {
      "image/png": "[encoded data removed]",
      "text/plain": [
       "<Figure size 640x480 with 1 Axes>"
      ]
     },
     "metadata": {},
     "output_type": "display_data"
    },
    {
     "data": {
      "image/png": "[encoded data removed]",
      "text/plain": [
       "<Figure size 640x480 with 1 Axes>"
      ]
     },
     "metadata": {},
     "output_type": "display_data"
    },
    {
     "data": {
      "image/png": "[encoded data removed]",
      "text/plain": [
       "<Figure size 640x480 with 1 Axes>"
      ]
     },
     "metadata": {},
     "output_type": "display_data"
    }
   ],
   "source": [
    "%matplotlib inline\n",
    "b.plot()"
   ]
  }
 ],
 "metadata": {
  "kernelspec": {
   "display_name": "Python 3 (ipykernel)",
   "language": "python",
   "name": "python3"
  },
  "language_info": {
   "codemirror_mode": {
    "name": "ipython",
    "version": 3
   },
   "file_extension": ".py",
   "mimetype": "text/x-python",
   "name": "python",
   "nbconvert_exporter": "python",
   "pygments_lexer": "ipython3",
   "version": "3.11.7"
  },
  "widgets": {
   "application/vnd.jupyter.widget-state+json": {
    "state": {},
    "version_major": 2,
    "version_minor": 0
   }
  }
 },
 "nbformat": 4,
 "nbformat_minor": 5
}
